{
 "cells": [
  {
   "cell_type": "code",
   "execution_count": 1,
   "id": "8e1a8d47-96be-44a8-bab0-ac6c0cd1bd34",
   "metadata": {},
   "outputs": [
    {
     "name": "stdout",
     "output_type": "stream",
     "text": [
      "Hello World in codespaces\n"
     ]
    }
   ],
   "source": [
    "print (\"Hello World in codespaces\")\n"
   ]
  },
  {
   "cell_type": "code",
   "execution_count": null,
   "id": "88bfc2ce-8e18-4f3e-91ea-0e014befe474",
   "metadata": {},
   "outputs": [],
   "source": []
  }
 ],
 "metadata": {
  "kernelspec": {
   "display_name": "Python 3 (ipykernel)",
   "language": "python",
   "name": "python3"
  },
  "language_info": {
   "codemirror_mode": {
    "name": "ipython",
    "version": 3
   },
   "file_extension": ".py",
   "mimetype": "text/x-python",
   "name": "python",
   "nbconvert_exporter": "python",
   "pygments_lexer": "ipython3",
   "version": "3.10.13"
  }
 },
 "nbformat": 4,
 "nbformat_minor": 5
}
